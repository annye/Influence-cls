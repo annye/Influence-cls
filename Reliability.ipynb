{
 "cells": [
  {
   "cell_type": "raw",
   "id": "46f3da9e",
   "metadata": {},
   "source": [
    "Annye Braca\n",
    "Reliability test code\n",
    "19/08/2023"
   ]
  },
  {
   "cell_type": "raw",
   "id": "3be68f2b",
   "metadata": {},
   "source": [
    "Internal Consistency Reliability: This method assesses how well the items within a questionnaire measure the same underlying construct. It includes techniques such as Cronbach's alpha, which calculates the average correlation among all items in the questionnaire. A higher Cronbach's alpha value (ideally above 0.70) suggests better internal consistency reliability. You can also use other methods like split-half reliability or the average inter-item correlation."
   ]
  },
  {
   "cell_type": "code",
   "execution_count": 1,
   "id": "0b10aa2d",
   "metadata": {},
   "outputs": [],
   "source": [
    "import pandas as pd\n",
    "import numpy as np\n",
    "from scipy import stats\n",
    "from pdb import set_trace\n",
    "from tabulate import tabulate\n",
    "import scikit_posthocs as sp\n",
    "import warnings\n",
    "warnings.filterwarnings('ignore')\n",
    "from getdata import DataSlicer\n",
    "import pingouin as pg"
   ]
  },
  {
   "cell_type": "code",
   "execution_count": 2,
   "id": "fee6ad8f",
   "metadata": {},
   "outputs": [],
   "source": [
    "# Create an instance of the DataSlicer class\n",
    "#data_path = r\"C:\\phaseII\\static\\dataset-individual-Items.csv\"\n",
    "data_path = r\"C:\\phaseII\\static\\reversed-scored-dataset.csv\"\n",
    "data_slicer = DataSlicer(data_path)\n",
    "# Call the functions on the data_slicer instance\n",
    "df = data_slicer.read_data()\n",
    "# data= data_slicer.average_scores()\n",
    "# # Convert the data types of the columns to float\n",
    "# data = data.iloc[:, -10:].astype(float)\n",
    "# data.tail()"
   ]
  },
  {
   "cell_type": "code",
   "execution_count": 3,
   "id": "b6fcb13d",
   "metadata": {},
   "outputs": [],
   "source": [
    "def calculate_cronbach_alpha(data):\n",
    "    result = pg.cronbach_alpha(data=data, ci=.95)\n",
    "    \n",
    "    cronbach_alpha = result[0] #extract the Cronbach's alpha value using result[0].\n",
    "    ci_lower, ci_upper = result[1]\n",
    "    \n",
    "    print(\"Cronbach’s Alpha:\", cronbach_alpha)\n",
    "    print(\"Confidence Interval:\", (ci_lower, ci_upper))\n",
    "    \n",
    "    if cronbach_alpha >= 0.9:\n",
    "        print(\"Internal consistency: Excellent\")\n",
    "    elif 0.8 <= cronbach_alpha < 0.9:\n",
    "        print(\"Internal consistency: Good\")\n",
    "    elif 0.7 <= cronbach_alpha < 0.8:\n",
    "        print(\"Internal consistency: Acceptable\")\n",
    "    elif 0.6 <= cronbach_alpha < 0.7:\n",
    "        print(\"Internal consistency: Questionable\")\n",
    "    elif 0.5 <= cronbach_alpha < 0.6:\n",
    "        print(\"Internal consistency: Poor\")\n",
    "    else:\n",
    "        print(\"Internal consistency: Unacceptable\")\n",
    "\n",
    "\n"
   ]
  },
  {
   "cell_type": "code",
   "execution_count": 5,
   "id": "bc0f75f1",
   "metadata": {},
   "outputs": [
    {
     "data": {
      "text/plain": [
       "Index(['age', 'gender', 'education', 'Extraversion', 'Agreeableness',\n",
       "       'Conscientiousness', 'Emotional stability', 'Openness', 'Approval',\n",
       "       'Love', 'Achievement', 'Perfectionism', 'Entitlement', 'Omnipotence',\n",
       "       'Autonomy', 'repetition-1', 'repetition-2', 'repetition-3',\n",
       "       'main-argument-context-positive-framing-topic1',\n",
       "       'main-argument-context-positive-framing-topic2',\n",
       "       'main-argument-context-positive-framing-topic3', 'social-proof-1',\n",
       "       'social-proof-2', 'social-proof-3', 'flattery-1', 'flattery-2',\n",
       "       'flattery-3', 'rheto-question-1', 'rheto-question-2',\n",
       "       'rheto-question-3', 'antanagoge-1', 'antanagoge-2', 'antanagogue-3',\n",
       "       'logic-1', 'logic-2', 'logic-3', 'authority-1', 'authority-2',\n",
       "       'authority-3', 'pathos-1', 'pathos-2', 'pathos-3', 'anaphora-1',\n",
       "       'anaphora-2', 'anaphora-3'],\n",
       "      dtype='object')"
      ]
     },
     "execution_count": 5,
     "metadata": {},
     "output_type": "execute_result"
    }
   ],
   "source": [
    "df.columns"
   ]
  },
  {
   "cell_type": "code",
   "execution_count": 6,
   "id": "2509a8ed",
   "metadata": {},
   "outputs": [
    {
     "name": "stdout",
     "output_type": "stream",
     "text": [
      "Cronbach’s Alpha: -0.19827421493084918\n",
      "Confidence Interval: (-0.283, -0.117)\n",
      "Internal consistency: Unacceptable\n",
      "None\n"
     ]
    }
   ],
   "source": [
    "questionnaire_items_tipi = df[['Extraversion', 'Agreeableness',\n",
    "                               'Conscientiousness', 'Emotional stability', \n",
    "                               'Openness',]]\n",
    "alpha_value = calculate_cronbach_alpha(questionnaire_items_tipi)\n",
    "print(alpha_value)"
   ]
  },
  {
   "cell_type": "code",
   "execution_count": 5,
   "id": "313018ad",
   "metadata": {},
   "outputs": [
    {
     "name": "stdout",
     "output_type": "stream",
     "text": [
      "Cronbach’s Alpha: 0.8748042464975204\n",
      "Confidence Interval: (0.867, 0.883)\n",
      "Internal consistency: Good\n",
      "None\n"
     ]
    }
   ],
   "source": [
    "questionnaire_items_das = df[['DAS1', 'DAS2',\n",
    "                           'DAS3', 'DAS4', 'DAS5', 'DAS6', 'DAS7', 'DAS8', 'DAS9', 'DAS10',\n",
    "                           'DAS11', 'DAS12', 'DAS13', 'DAS14', 'DAS15', 'DAS16', 'DAS17', 'DAS18',\n",
    "                           'DAS19', 'DAS20', 'DAS21', 'DAS22', 'DAS23', 'DAS24', 'DAS25', 'DAS26',\n",
    "                           'DAS27', 'DAS28', 'DAS29', 'DAS30', 'DAS31', 'DAS32', 'DAS33', 'DAS34',\n",
    "                           'DAS35']]\n",
    "alpha_value = calculate_cronbach_alpha(questionnaire_items_das)\n",
    "print(alpha_value)"
   ]
  },
  {
   "cell_type": "raw",
   "id": "57e18caf",
   "metadata": {},
   "source": [
    "The calculated Cronbach's alpha of approximately 0.8748 falls within the range of 0.8 to 0.9."
   ]
  },
  {
   "cell_type": "raw",
   "id": "719ca29f",
   "metadata": {},
   "source": [
    "Confidence Interval: (0.867, 0.883)\n",
    "This range represents the confidence interval for the calculated Cronbach's alpha. The confidence interval indicates the range within which the true value of Cronbach's alpha is likely to fall with a certain level of confidence (in this case, 95%). The lower bound of the confidence interval is 0.867, and the upper bound is 0.883. This means that you can be 95% confident that the true Cronbach's alpha value lies within the range of 0.867 to 0.883."
   ]
  }
 ],
 "metadata": {
  "kernelspec": {
   "display_name": "Python 3 (ipykernel)",
   "language": "python",
   "name": "python3"
  },
  "language_info": {
   "codemirror_mode": {
    "name": "ipython",
    "version": 3
   },
   "file_extension": ".py",
   "mimetype": "text/x-python",
   "name": "python",
   "nbconvert_exporter": "python",
   "pygments_lexer": "ipython3",
   "version": "3.10.1"
  }
 },
 "nbformat": 4,
 "nbformat_minor": 5
}
